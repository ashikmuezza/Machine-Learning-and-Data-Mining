{
  "nbformat": 4,
  "nbformat_minor": 0,
  "metadata": {
    "colab": {
      "provenance": []
    },
    "kernelspec": {
      "name": "python3",
      "display_name": "Python 3"
    },
    "language_info": {
      "name": "python"
    }
  },
  "cells": [
    {
      "cell_type": "code",
      "execution_count": 3,
      "metadata": {
        "colab": {
          "base_uri": "https://localhost:8080/"
        },
        "id": "FBqT-pk13F8n",
        "outputId": "be820588-e2fb-4766-ca2d-e095014233be"
      },
      "outputs": [
        {
          "output_type": "stream",
          "name": "stdout",
          "text": [
            "[['high' 'partly cloudy']\n",
            " ['high' 'sunny']\n",
            " ['low' 'sunny']\n",
            " ['low' 'cloudy']\n",
            " ['low' 'cloudy']\n",
            " ['high' 'cloudy']]\n"
          ]
        }
      ],
      "source": [
        "import numpy as np\n",
        "x1 = ['high', 'high', 'low', 'low', 'low', 'high']  \n",
        "# x2 is weather type\n",
        "x2 = ['partly cloudy', 'sunny', 'sunny', 'cloudy', 'cloudy', 'cloudy']  \n",
        "X = np.array([x1, x2]).T\n",
        "y = np.array([False, False, True, False, False, True]) # rain (True) and no-rain (False)\n",
        "\n",
        "\n",
        "# Splitting a set\n",
        "# Input is an array of feature observations and output is a dictionary with \"unique feature value\" as key and indices as value\n",
        "def partition(a):\n",
        "    return {c: (a==c).nonzero()[0] for c in np.unique(a)}\n",
        "\n",
        "# Picking which attribute to split\n",
        "# Calculate entropy of a list\n",
        "def entropy(s):\n",
        "    res = 0\n",
        "    val, counts = np.unique(s, return_counts=True)\n",
        "    freqs = counts.astype('float')/len(s)\n",
        "    for p in freqs:\n",
        "        if p != 0.0:\n",
        "            res -= p * np.log2(p)\n",
        "    return res\n",
        "\n",
        "# Calculate decrease in impurity (information gains)\n",
        "# \n",
        "def mutual_information(y, x):\n",
        "    \n",
        "    # Calculate entropy of observation classes\n",
        "    res = entropy(y)\n",
        "\n",
        "    # We partition x, according to attribute values x_i\n",
        "    val, counts = np.unique(x, return_counts=True)\n",
        "    freqs = counts.astype('float')/len(x)\n",
        "\n",
        "    # We calculate a weighted average of the entropy and subtract it from parent entropy\n",
        "    for p, v in zip(freqs, val):\n",
        "        res -= p * entropy(y[x == v])\n",
        "\n",
        "    return res\n",
        "\n",
        "# Checks for pureness of elements in a list\n",
        "def is_pure(s):\n",
        "    return len(set(s)) == 1\n",
        "\n",
        "# Helper function to print decision tree\n",
        "def print_tree(d, depth = 0):\n",
        "    for key, value in d.items():\n",
        "        for i in range(depth):\n",
        "                print(' ', end='')\n",
        "        if type(value) is dict:\n",
        "            print(key, end=':\\n')\n",
        "            print_tree(value, depth + 1)\n",
        "        else:\n",
        "            print(key, end=': ')\n",
        "            print(value)\n",
        "            \n",
        "    \n",
        "# Get the most common element of an array\n",
        "def most_common(a):\n",
        "    (values,counts) = np.unique(a,return_counts=True)\n",
        "    ind=np.argmax(counts)\n",
        "    return values[ind]\n",
        "\n",
        "# Recursive split of observations\n",
        "def recursive_split(x, y):\n",
        "    \n",
        "    # If set to be split is pure or empty, return it as leaf\n",
        "    if is_pure(y) or len(y) == 0:\n",
        "        return most_common(y)\n",
        "\n",
        "    # Calculate decrease in impurity (information gain) and split attribute with maximum gain\n",
        "    gain = np.array([mutual_information(y, x_attr) for x_attr in x.T])\n",
        "    selected_attr = np.argmax(gain)\n",
        "\n",
        "    # Sufficiently pure, return it as leaf\n",
        "    if np.all(gain < 1e-6):\n",
        "        return most_common(y)\n",
        "\n",
        "    # Split using the selected attribute\n",
        "    sets = partition(x[:, selected_attr])\n",
        "\n",
        "    # Perform recursive splits and collect results\n",
        "    res = {}\n",
        "    for key, value in sets.items():\n",
        "        y_subset = y.take(value, axis=0)\n",
        "        x_subset = x.take(value, axis=0)\n",
        "        res[\"x_%d = %s\" % (selected_attr, key)] = recursive_split(x_subset, y_subset)\n",
        "\n",
        "    return res\n",
        "\n",
        "# Perform algorithm on the example dataset to create a decision tree\n",
        "print(X)"
      ]
    },
    {
      "cell_type": "code",
      "source": [
        "d = recursive_split(X, y)\n",
        "d"
      ],
      "metadata": {
        "colab": {
          "base_uri": "https://localhost:8080/"
        },
        "id": "VIvwGlHY4Exz",
        "outputId": "bcd5ae36-dbfc-44fd-b449-7db32bb46e37"
      },
      "execution_count": 6,
      "outputs": [
        {
          "output_type": "execute_result",
          "data": {
            "text/plain": [
              "{'x_1 = cloudy': {'x_0 = high': True, 'x_0 = low': False},\n",
              " 'x_1 = partly cloudy': False,\n",
              " 'x_1 = sunny': {'x_0 = high': False, 'x_0 = low': True}}"
            ]
          },
          "metadata": {},
          "execution_count": 6
        }
      ]
    },
    {
      "cell_type": "code",
      "source": [
        "print_tree(d)"
      ],
      "metadata": {
        "colab": {
          "base_uri": "https://localhost:8080/"
        },
        "id": "azjKnn3-4JD8",
        "outputId": "a0b367e1-d205-47d4-c0b6-34f5a0d3a40e"
      },
      "execution_count": 7,
      "outputs": [
        {
          "output_type": "stream",
          "name": "stdout",
          "text": [
            "x_1 = cloudy:\n",
            " x_0 = high: True\n",
            " x_0 = low: False\n",
            "x_1 = partly cloudy: False\n",
            "x_1 = sunny:\n",
            " x_0 = high: False\n",
            " x_0 = low: True\n"
          ]
        }
      ]
    },
    {
      "cell_type": "code",
      "source": [
        "#Recursive labelling of the samples\n",
        "def predict_rains(d,sample):\n",
        "    for key, value in d.items():\n",
        "        nodeKey,condValue = key.replace(\" \",\"\").split(\"=\")\n",
        "        selected_attr = 0\n",
        "        \n",
        "        if(\"1\" in nodeKey):\n",
        "            selected_attr= 1\n",
        "        \n",
        "        #Choose atmospheric pressure (0) or weather type(1) based on the condition at the node\n",
        "        sampleValue = sample[selected_attr]\n",
        "    \n",
        "        if type(value) is dict:\n",
        "            if( sampleValue.replace(\" \",\"\") == condValue.replace(\" \",\"\")):\n",
        "                predict_rains(value,sample)\n",
        "        else:\n",
        "            if(sampleValue.replace(\" \",\"\") == condValue.replace(\" \",\"\")):\n",
        "                #print(\" Label --> \",value)\n",
        "                if(value):\n",
        "                  print('\\nPrediction: Rains')\n",
        "                else:\n",
        "                  print('\\nPrediction: No Rains')"
      ],
      "metadata": {
        "id": "zXN6Gh3e4OSC"
      },
      "execution_count": 13,
      "outputs": []
    },
    {
      "cell_type": "code",
      "source": [
        "for i in X:\n",
        "  a = predict_rains(d,i)"
      ],
      "metadata": {
        "colab": {
          "base_uri": "https://localhost:8080/"
        },
        "id": "jGl3rRCb4WAa",
        "outputId": "e21b3761-5f18-404b-9253-33f5cc3349d6"
      },
      "execution_count": 14,
      "outputs": [
        {
          "output_type": "stream",
          "name": "stdout",
          "text": [
            "\n",
            "Prediction: No Rains\n",
            "\n",
            "Prediction: No Rains\n",
            "\n",
            "Prediction: Rains\n",
            "\n",
            "Prediction: No Rains\n",
            "\n",
            "Prediction: No Rains\n",
            "\n",
            "Prediction: Rains\n"
          ]
        }
      ]
    }
  ]
}