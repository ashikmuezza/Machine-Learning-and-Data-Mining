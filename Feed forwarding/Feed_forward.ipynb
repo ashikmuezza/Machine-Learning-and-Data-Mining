{
  "nbformat": 4,
  "nbformat_minor": 0,
  "metadata": {
    "colab": {
      "provenance": []
    },
    "kernelspec": {
      "name": "python3",
      "display_name": "Python 3"
    },
    "language_info": {
      "name": "python"
    }
  },
  "cells": [
    {
      "cell_type": "code",
      "execution_count": 6,
      "metadata": {
        "id": "aUdmKF8I6abl"
      },
      "outputs": [],
      "source": [
        "from math import exp\n",
        "\n",
        "def sig_activation(val):\n",
        "  return 1/(1+exp(-val)) \n",
        "\n",
        "def feed_forward(neural_net,initial_input, bias):\n",
        "   input = initial_input\n",
        "   # looping through multiple layers of the network\n",
        "   for layers in neural_net:      \n",
        "     conn_input=[]\n",
        "\n",
        "     for layer in layers:\n",
        "       net_input=0\n",
        "       weight_list = layer['Weight']\n",
        "\n",
        "       #calculating net input\n",
        "       for i in range(len(layer['Weight'])-1):\n",
        "         net_input+=weight_list[i] * input[i] + bias\n",
        "       \n",
        "       #calling activation function\n",
        "       output=sig_activation(net_input)\n",
        "\n",
        "       conn_input.append(output)\n",
        "       layer['Output'] = output\n",
        "\n",
        "   \n",
        "     input=conn_input  # this becomes the input of the next layer or the final outcome\n",
        "\n",
        "   return input\n"
      ]
    },
    {
      "cell_type": "code",
      "source": [
        "neural_network = [[{'Weight': [0.5,0.2,0.3]}], [{'Weight': [0.4,0.33]}, {'Weight': [0.2,0.5]}]]\n",
        "neural_network"
      ],
      "metadata": {
        "colab": {
          "base_uri": "https://localhost:8080/"
        },
        "id": "1EvkZR9G6gfb",
        "outputId": "72d9d760-1076-42aa-a048-5db1f33db08d"
      },
      "execution_count": 3,
      "outputs": [
        {
          "output_type": "execute_result",
          "data": {
            "text/plain": [
              "[[{'Weight': [0.5, 0.2, 0.3]}],\n",
              " [{'Weight': [0.4, 0.33]}, {'Weight': [0.2, 0.5]}]]"
            ]
          },
          "metadata": {},
          "execution_count": 3
        }
      ]
    },
    {
      "cell_type": "code",
      "source": [
        "input=[0,0.4,0.3]\n",
        "bias = 0.23\n",
        "output = feed_forward(neural_network, input, bias)\n",
        "print(output)"
      ],
      "metadata": {
        "colab": {
          "base_uri": "https://localhost:8080/"
        },
        "id": "a1O6R6TB6ksD",
        "outputId": "79aefb88-18a9-47e4-e3f7-0d543bc49d64"
      },
      "execution_count": 5,
      "outputs": [
        {
          "output_type": "stream",
          "name": "stdout",
          "text": [
            "[0.6183911292755063, 0.5881596095838665]\n"
          ]
        }
      ]
    }
  ]
}