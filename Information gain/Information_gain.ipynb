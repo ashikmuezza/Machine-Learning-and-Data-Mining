{
  "nbformat": 4,
  "nbformat_minor": 0,
  "metadata": {
    "colab": {
      "provenance": []
    },
    "kernelspec": {
      "name": "python3",
      "display_name": "Python 3"
    },
    "language_info": {
      "name": "python"
    }
  },
  "cells": [
    {
      "cell_type": "code",
      "execution_count": 7,
      "metadata": {
        "id": "d0PaJZEz0blf"
      },
      "outputs": [],
      "source": [
        "import pandas as pd\n",
        "import numpy as np\n",
        "from numpy.core.fromnumeric import nonzero\n",
        "\n",
        "\n",
        "def is_pure(s):\n",
        "    return len(set(s)) == 1\n",
        "\n",
        "def most_common(a):\n",
        "    (values,counts) = np.unique(a,return_counts=True)\n",
        "    ind=np.argmax(counts)\n",
        "    return values[ind]\n",
        "\n",
        "def print_tree(d, depth = 0):\n",
        "    for key, value in d.items():\n",
        "        for i in range(depth):\n",
        "                print(' ', end='')\n",
        "        if type(value) is dict:\n",
        "            #print(key, end=':\\n')\n",
        "            print_tree(value, depth + 1)\n",
        "        else:\n",
        "            print(key, end=': ')\n",
        "            print(value)\n",
        "\n",
        "def partition(s):\n",
        "  return {i: (s==i).nonzero()[0]  for i in np.unique(s)}\n",
        "\n",
        "\n",
        "def entropy(s):\n",
        "  unique_,counts_ = np.unique(s,return_counts= True)\n",
        "  freq_ = counts_.astype(float)/len(s)\n",
        "  res = 0\n",
        "  for i in freq_:\n",
        "    res -= i * np.log2(i)\n",
        "  return res\n",
        "\n",
        "def mutual_information(x,y):\n",
        "  entropy_set = entropy(y)\n",
        "  unique,counts = np.unique(x ,return_counts= True)\n",
        "  freq = counts.astype(float)/len(x)\n",
        "\n",
        "  entropy_subset = 0\n",
        "  for i,j in zip(freq,unique):\n",
        "   entropy_subset += i * entropy(y[x == j ])\n",
        "\n",
        "  return entropy_set - entropy_subset\n",
        "\n",
        "def recursive_split(x, y):\n",
        "\n",
        "  if is_pure(y) or len(y) == 0:\n",
        "    return most_common(y)\n",
        "  \n",
        "  gain = np.array([mutual_information(feature,y) for feature in x.T ])\n",
        "  \n",
        "  print('features : ',features)\n",
        "  print('Information Gain : ',gain)\n",
        "  print('Best split is : ',features[np.argmax(gain)])\n",
        " \n",
        "  x_ = np.argmax(gain)\n",
        "\n",
        "  if np.all(gain < 1e-6):\n",
        "    return most_common(y)\n",
        "\n",
        "  sets = partition(x[:,x_])\n",
        "  #print(sets)\n",
        "\n",
        "  tree = {} \n",
        "\n",
        "  for k,v in sets.items():\n",
        "    y_subset = y.take(v,axis = 0)\n",
        "    x_subset = x.take(v,axis = 0)\n",
        "    #print(x_subset,y_subset)\n",
        "    tree[\"x_%d = %s\" % (x_, k)] = recursive_split(x_subset, y_subset)\n",
        "\n",
        "  return tree\n",
        "\n"
      ]
    },
    {
      "cell_type": "code",
      "source": [
        "df = pd.read_csv('InfoGain.csv')\n",
        "df.head()"
      ],
      "metadata": {
        "colab": {
          "base_uri": "https://localhost:8080/",
          "height": 206
        },
        "id": "irdpcw710nR7",
        "outputId": "c4f2ec52-8365-469d-f43b-b9e18b5685b2"
      },
      "execution_count": 3,
      "outputs": [
        {
          "output_type": "execute_result",
          "data": {
            "text/plain": [
              "  price airbag  capacity maintenance profitable\n",
              "0   low     no         2         low        yes\n",
              "1   low    yes         4         med         no\n",
              "2   low     no         4         low        yes\n",
              "3   low     no         4        high         no\n",
              "4   med     no         4         med         no"
            ],
            "text/html": [
              "\n",
              "  <div id=\"df-33463141-6688-4b7b-9640-2ce0f263a8c9\">\n",
              "    <div class=\"colab-df-container\">\n",
              "      <div>\n",
              "<style scoped>\n",
              "    .dataframe tbody tr th:only-of-type {\n",
              "        vertical-align: middle;\n",
              "    }\n",
              "\n",
              "    .dataframe tbody tr th {\n",
              "        vertical-align: top;\n",
              "    }\n",
              "\n",
              "    .dataframe thead th {\n",
              "        text-align: right;\n",
              "    }\n",
              "</style>\n",
              "<table border=\"1\" class=\"dataframe\">\n",
              "  <thead>\n",
              "    <tr style=\"text-align: right;\">\n",
              "      <th></th>\n",
              "      <th>price</th>\n",
              "      <th>airbag</th>\n",
              "      <th>capacity</th>\n",
              "      <th>maintenance</th>\n",
              "      <th>profitable</th>\n",
              "    </tr>\n",
              "  </thead>\n",
              "  <tbody>\n",
              "    <tr>\n",
              "      <th>0</th>\n",
              "      <td>low</td>\n",
              "      <td>no</td>\n",
              "      <td>2</td>\n",
              "      <td>low</td>\n",
              "      <td>yes</td>\n",
              "    </tr>\n",
              "    <tr>\n",
              "      <th>1</th>\n",
              "      <td>low</td>\n",
              "      <td>yes</td>\n",
              "      <td>4</td>\n",
              "      <td>med</td>\n",
              "      <td>no</td>\n",
              "    </tr>\n",
              "    <tr>\n",
              "      <th>2</th>\n",
              "      <td>low</td>\n",
              "      <td>no</td>\n",
              "      <td>4</td>\n",
              "      <td>low</td>\n",
              "      <td>yes</td>\n",
              "    </tr>\n",
              "    <tr>\n",
              "      <th>3</th>\n",
              "      <td>low</td>\n",
              "      <td>no</td>\n",
              "      <td>4</td>\n",
              "      <td>high</td>\n",
              "      <td>no</td>\n",
              "    </tr>\n",
              "    <tr>\n",
              "      <th>4</th>\n",
              "      <td>med</td>\n",
              "      <td>no</td>\n",
              "      <td>4</td>\n",
              "      <td>med</td>\n",
              "      <td>no</td>\n",
              "    </tr>\n",
              "  </tbody>\n",
              "</table>\n",
              "</div>\n",
              "      <button class=\"colab-df-convert\" onclick=\"convertToInteractive('df-33463141-6688-4b7b-9640-2ce0f263a8c9')\"\n",
              "              title=\"Convert this dataframe to an interactive table.\"\n",
              "              style=\"display:none;\">\n",
              "        \n",
              "  <svg xmlns=\"http://www.w3.org/2000/svg\" height=\"24px\"viewBox=\"0 0 24 24\"\n",
              "       width=\"24px\">\n",
              "    <path d=\"M0 0h24v24H0V0z\" fill=\"none\"/>\n",
              "    <path d=\"M18.56 5.44l.94 2.06.94-2.06 2.06-.94-2.06-.94-.94-2.06-.94 2.06-2.06.94zm-11 1L8.5 8.5l.94-2.06 2.06-.94-2.06-.94L8.5 2.5l-.94 2.06-2.06.94zm10 10l.94 2.06.94-2.06 2.06-.94-2.06-.94-.94-2.06-.94 2.06-2.06.94z\"/><path d=\"M17.41 7.96l-1.37-1.37c-.4-.4-.92-.59-1.43-.59-.52 0-1.04.2-1.43.59L10.3 9.45l-7.72 7.72c-.78.78-.78 2.05 0 2.83L4 21.41c.39.39.9.59 1.41.59.51 0 1.02-.2 1.41-.59l7.78-7.78 2.81-2.81c.8-.78.8-2.07 0-2.86zM5.41 20L4 18.59l7.72-7.72 1.47 1.35L5.41 20z\"/>\n",
              "  </svg>\n",
              "      </button>\n",
              "      \n",
              "  <style>\n",
              "    .colab-df-container {\n",
              "      display:flex;\n",
              "      flex-wrap:wrap;\n",
              "      gap: 12px;\n",
              "    }\n",
              "\n",
              "    .colab-df-convert {\n",
              "      background-color: #E8F0FE;\n",
              "      border: none;\n",
              "      border-radius: 50%;\n",
              "      cursor: pointer;\n",
              "      display: none;\n",
              "      fill: #1967D2;\n",
              "      height: 32px;\n",
              "      padding: 0 0 0 0;\n",
              "      width: 32px;\n",
              "    }\n",
              "\n",
              "    .colab-df-convert:hover {\n",
              "      background-color: #E2EBFA;\n",
              "      box-shadow: 0px 1px 2px rgba(60, 64, 67, 0.3), 0px 1px 3px 1px rgba(60, 64, 67, 0.15);\n",
              "      fill: #174EA6;\n",
              "    }\n",
              "\n",
              "    [theme=dark] .colab-df-convert {\n",
              "      background-color: #3B4455;\n",
              "      fill: #D2E3FC;\n",
              "    }\n",
              "\n",
              "    [theme=dark] .colab-df-convert:hover {\n",
              "      background-color: #434B5C;\n",
              "      box-shadow: 0px 1px 3px 1px rgba(0, 0, 0, 0.15);\n",
              "      filter: drop-shadow(0px 1px 2px rgba(0, 0, 0, 0.3));\n",
              "      fill: #FFFFFF;\n",
              "    }\n",
              "  </style>\n",
              "\n",
              "      <script>\n",
              "        const buttonEl =\n",
              "          document.querySelector('#df-33463141-6688-4b7b-9640-2ce0f263a8c9 button.colab-df-convert');\n",
              "        buttonEl.style.display =\n",
              "          google.colab.kernel.accessAllowed ? 'block' : 'none';\n",
              "\n",
              "        async function convertToInteractive(key) {\n",
              "          const element = document.querySelector('#df-33463141-6688-4b7b-9640-2ce0f263a8c9');\n",
              "          const dataTable =\n",
              "            await google.colab.kernel.invokeFunction('convertToInteractive',\n",
              "                                                     [key], {});\n",
              "          if (!dataTable) return;\n",
              "\n",
              "          const docLinkHtml = 'Like what you see? Visit the ' +\n",
              "            '<a target=\"_blank\" href=https://colab.research.google.com/notebooks/data_table.ipynb>data table notebook</a>'\n",
              "            + ' to learn more about interactive tables.';\n",
              "          element.innerHTML = '';\n",
              "          dataTable['output_type'] = 'display_data';\n",
              "          await google.colab.output.renderOutput(dataTable, element);\n",
              "          const docLink = document.createElement('div');\n",
              "          docLink.innerHTML = docLinkHtml;\n",
              "          element.appendChild(docLink);\n",
              "        }\n",
              "      </script>\n",
              "    </div>\n",
              "  </div>\n",
              "  "
            ]
          },
          "metadata": {},
          "execution_count": 3
        }
      ]
    },
    {
      "cell_type": "code",
      "source": [
        "df_ = df.copy()\n",
        "df_ = df.drop('profitable',axis = 1)\n",
        "x = np.array(df_).T\n",
        "\n",
        "for i in range(len(x[2])):\n",
        "  if x[2][i] == 2:\n",
        "    x[2][i] = 'two'\n",
        "  elif x[2][i] == 4:\n",
        "    x[2][i] = 'four'\n",
        "  elif x[2][i] == 5:\n",
        "    x[2][i] = 'five'\n",
        "\n",
        "x = x.T\n",
        "x"
      ],
      "metadata": {
        "colab": {
          "base_uri": "https://localhost:8080/"
        },
        "id": "c4RqqOdN0kcy",
        "outputId": "b6acbc9a-3b88-4d8a-a730-7db9032c4706"
      },
      "execution_count": 8,
      "outputs": [
        {
          "output_type": "execute_result",
          "data": {
            "text/plain": [
              "array([['low', 'no', 'two', 'low'],\n",
              "       ['low', 'yes', 'four', 'med'],\n",
              "       ['low', 'no', 'four', 'low'],\n",
              "       ['low', 'no', 'four', 'high'],\n",
              "       ['med', 'no', 'four', 'med'],\n",
              "       ['med', 'yes', 'four', 'med'],\n",
              "       ['med', 'yes', 'two', 'high'],\n",
              "       ['med', 'no', 'five', 'high'],\n",
              "       ['high', 'yes', 'four', 'med'],\n",
              "       ['high', 'yes', 'two', 'high'],\n",
              "       ['high', 'yes', 'five', 'high']], dtype=object)"
            ]
          },
          "metadata": {},
          "execution_count": 8
        }
      ]
    },
    {
      "cell_type": "code",
      "source": [
        "y = np.array(df['profitable'])\n",
        "features = list(df_)\n",
        "d = recursive_split(x,y)"
      ],
      "metadata": {
        "colab": {
          "base_uri": "https://localhost:8080/"
        },
        "id": "tgLV4YyV091S",
        "outputId": "f3b95b2f-13c4-46e2-bde8-7ed80b962838"
      },
      "execution_count": 10,
      "outputs": [
        {
          "output_type": "stream",
          "name": "stdout",
          "text": [
            "features :  ['price', 'airbag', 'capacity', 'maintenance']\n",
            "Information Gain :  [0.01631317 0.00723449 0.19813135 0.18905267]\n",
            "Best split is :  capacity\n",
            "features :  ['price', 'airbag', 'capacity', 'maintenance']\n",
            "Information Gain :  [0.20751875 0.08170417 0.         0.33333333]\n",
            "Best split is :  maintenance\n",
            "features :  ['price', 'airbag', 'capacity', 'maintenance']\n",
            "Information Gain :  [0.5        0.31127812 0.         0.        ]\n",
            "Best split is :  price\n",
            "features :  ['price', 'airbag', 'capacity', 'maintenance']\n",
            "Information Gain :  [0. 1. 0. 0.]\n",
            "Best split is :  airbag\n",
            "features :  ['price', 'airbag', 'capacity', 'maintenance']\n",
            "Information Gain :  [0.91829583 0.91829583 0.         0.91829583]\n",
            "Best split is :  price\n"
          ]
        }
      ]
    },
    {
      "cell_type": "code",
      "source": [
        "Tree = print_tree(d)\n",
        "print(Tree)"
      ],
      "metadata": {
        "colab": {
          "base_uri": "https://localhost:8080/"
        },
        "id": "UiRaGx0C1Vjr",
        "outputId": "8ee8b2da-f704-4bfc-e17b-d442a5aefde7"
      },
      "execution_count": 11,
      "outputs": [
        {
          "output_type": "stream",
          "name": "stdout",
          "text": [
            "x_2 = five: yes\n",
            " x_3 = high: no\n",
            " x_3 = low: yes\n",
            "   x_0 = high: yes\n",
            "  x_0 = low: no\n",
            "     x_1 = no: no\n",
            "   x_1 = yes: yes\n",
            " x_0 = high: no\n",
            " x_0 = low: yes\n",
            " x_0 = med: no\n",
            "None\n"
          ]
        }
      ]
    }
  ]
}