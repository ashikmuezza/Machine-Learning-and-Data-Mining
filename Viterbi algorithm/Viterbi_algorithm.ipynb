{
  "nbformat": 4,
  "nbformat_minor": 0,
  "metadata": {
    "colab": {
      "provenance": [],
      "collapsed_sections": []
    },
    "kernelspec": {
      "name": "python3",
      "display_name": "Python 3"
    },
    "language_info": {
      "name": "python"
    }
  },
  "cells": [
    {
      "cell_type": "code",
      "source": [
        "def viterbi_algorithm(o,s,i_prob,t_prob,e_prob):\n",
        "  v = [{}]\n",
        "  for i in s:\n",
        "    v[0][i] = i_prob[i] * e_prob[i][o[0]] \n",
        "\n",
        "  print(v)\n",
        "  \n",
        "  for t in range(1, len(o)):\n",
        "    v.append({})\n",
        "    for i in s:\n",
        "      prob = []\n",
        "      for j in s:\n",
        "        prob.append(v[t-1][j] * t_prob[j][i] * e_prob[i][o[t]])\n",
        "      v[t][i] = max(prob)\n",
        "  print(v)\n",
        "  \n",
        "  max_prob,seq = [],[]\n",
        "  for i in v:\n",
        "    values = i.values()\n",
        "    max_value = max(values)\n",
        "    max_prob.append(max_value)\n",
        "    keys = [key for key, value in i.items() if i[key] == max_value ]\n",
        "    seq.append(keys[0])\n",
        "\n",
        "  print (f'\\nFor the given observed sequence {o} the predicted states are {seq} \\nand the maximum propabilities are {max_prob}')\n",
        "\n",
        "o = ('sunny','rainy')\n",
        "s = ('Happy', 'Sad' )\n",
        "i_prob = {\"Happy\": 0.1, \"Sad\": 0.9}\n",
        "t_prob = {\"Happy\": {\"Happy\": 0.7, \"Sad\": 0.4},\"Sad\": {\"Happy\": 0.3, \"Sad\": 0.6},}\n",
        "e_prob = {\"Happy\": {\"sunny\": 0.8, \"rainy\": 0.2},\"Sad\": {\"sunny\": 0.4, \"rainy\": 0.6},}\n",
        "\n"
      ],
      "metadata": {
        "id": "Cmp3dpxSNjih"
      },
      "execution_count": 3,
      "outputs": []
    },
    {
      "cell_type": "code",
      "source": [
        "viterbi_algorithm(o,s,i_prob,t_prob,e_prob)"
      ],
      "metadata": {
        "colab": {
          "base_uri": "https://localhost:8080/"
        },
        "id": "rXMJ8yHg3jzU",
        "outputId": "323421cc-b38a-4f08-832b-91d853cf3b6e"
      },
      "execution_count": 4,
      "outputs": [
        {
          "output_type": "stream",
          "name": "stdout",
          "text": [
            "[{'Happy': 0.08000000000000002, 'Sad': 0.36000000000000004}]\n",
            "[{'Happy': 0.08000000000000002, 'Sad': 0.36000000000000004}, {'Happy': 0.021600000000000005, 'Sad': 0.12960000000000002}]\n",
            "\n",
            "For the given observed sequence ('sunny', 'rainy') the predicted states are ['Sad', 'Sad'] \n",
            "and the maximum propabilities are [0.36000000000000004, 0.12960000000000002]\n"
          ]
        }
      ]
    }
  ]
}