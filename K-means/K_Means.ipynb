{
  "nbformat": 4,
  "nbformat_minor": 0,
  "metadata": {
    "colab": {
      "name": "K_Means.ipynb",
      "provenance": [],
      "collapsed_sections": []
    },
    "kernelspec": {
      "name": "python3",
      "display_name": "Python 3"
    },
    "language_info": {
      "name": "python"
    }
  },
  "cells": [
    {
      "cell_type": "code",
      "source": [
        "import pandas as pd\n",
        "import numpy as np\n",
        "import matplotlib.pyplot as plt\n",
        "\n",
        "\n",
        "def init_centroids(x,k):\n",
        "  x = np.array(x)\n",
        "  arr = []\n",
        "  for i in range(k):\n",
        "    cx1 = np.random.uniform(min(x[:,0]),max(x[:,1]))\n",
        "    cx2 = np.random.uniform(min(x[:,0]),max(x[:,1]))\n",
        "    arr.append([cx1,cx2])  \n",
        "  return np.asarray(arr)\n",
        "\n",
        "def euclidean_distance(x,y):\n",
        "  return np.sqrt(np.sum(np.square(x-y)))\n",
        "    \n",
        "def assign_cluster(k,x,prev_centroids):\n",
        "   x = np.array(x)\n",
        "   cluster = []\n",
        "   for i in range(len(x)):\n",
        "     dist_arr = []\n",
        "     for j in range(k):\n",
        "      dist = euclidean_distance(x[i],prev_centroids[j])\n",
        "      dist_arr.append(dist)\n",
        "     min = np.argmin(dist_arr) \n",
        "     cluster.append(min)\n",
        "   return np.asarray(cluster)\n",
        "\n",
        "def measure_change(k,prev_centroids,new_centroids):\n",
        "  change = 0\n",
        "  for i in range(k):\n",
        "   change+= euclidean_distance(prev_centroids[i],new_centroids[i])\n",
        "  return change\n",
        "\n",
        "\n",
        "def compute_centroids(k,x,cluster):\n",
        "  new_centroids = []\n",
        "  x = np.array(x)\n",
        "  for i in range(k):\n",
        "    arr = []\n",
        "    for j in range(len(x)):\n",
        "      if i == cluster[j]:\n",
        "        arr.append(x[j])\n",
        "    centroids = np.mean(arr,axis = 0)\n",
        "    new_centroids.append(centroids) \n",
        "  return np.asarray(new_centroids)\n",
        "\n",
        "\n",
        "def show_clusters(k):\n",
        "  colors = [\"red\",\"blue\",\"yellow\",\"green\",\"purple\",\"black\"]\n",
        "  fig, ax = plt.subplots(figsize=(10, 8))\n",
        "  for i in range(k):\n",
        "    df1 = df[df.cluster == i]\n",
        "    for p in df1:\n",
        "      plt.scatter(df1.Longitude,df1.Latitude,color = colors[i] )\n",
        "\n",
        "  plt.xlabel('Longitude')\n",
        "  plt.ylabel('Latitude')\n",
        "  plt.title('K-Means Clustering')\n",
        "  plt.show()\n",
        "\n",
        "def kmeans(k,x):\n",
        "  \n",
        "  prev_centroids = init_centroids(x,k)\n",
        "  cluster_change = 100\n",
        "  while cluster_change > 0.001:\n",
        "    cluster = assign_cluster(k,x,prev_centroids)\n",
        "    new_centroids = compute_centroids(k,x,cluster)\n",
        "    cluster_change = measure_change(k,prev_centroids,new_centroids)\n",
        "    prev_centroids = new_centroids\n",
        "  df['cluster'] = cluster\n",
        "  show_clusters(k)\n",
        "\n",
        "df = pd.read_csv('/content/Categorical.csv')\n",
        "df = df.drop(['name','continent'],axis=1)\n",
        "df = df.dropna()\n",
        "print(len(df))\n",
        "k = 3\n",
        "np.random.seed(42)\n",
        "kmeans(k,df)\n"
      ],
      "metadata": {
        "colab": {
          "base_uri": "https://localhost:8080/",
          "height": 532
        },
        "id": "vZ3rPAW1wcVe",
        "outputId": "4581308e-890b-4242-d7a0-03738c96fb18"
      },
      "execution_count": 2,
      "outputs": [
        {
          "output_type": "stream",
          "name": "stdout",
          "text": [
            "241\n"
          ]
        },
        {
          "output_type": "display_data",
          "data": {
            "text/plain": [
              "<Figure size 720x576 with 1 Axes>"
            ],
            "image/png": "[encoded data removed]"
          },
          "metadata": {
            "needs_background": "light"
          }
        }
      ]
    }
  ]
}