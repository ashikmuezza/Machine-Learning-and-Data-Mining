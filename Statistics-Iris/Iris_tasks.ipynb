{
  "nbformat": 4,
  "nbformat_minor": 0,
  "metadata": {
    "colab": {
      "provenance": [],
      "collapsed_sections": []
    },
    "kernelspec": {
      "display_name": "Python 3",
      "name": "python3"
    },
    "language_info": {
      "name": "python"
    }
  },
  "cells": [
    {
      "cell_type": "code",
      "metadata": {
        "id": "AUFzQzB1manz"
      },
      "source": [
        "from sklearn.preprocessing import StandardScaler\n",
        "import pandas as pd\n",
        "import matplotlib.pyplot as plt\n",
        "import numpy as np\n",
        "import seaborn as sns\n",
        "import warnings\n",
        "from numpy.linalg import eig\n",
        "warnings.filterwarnings('ignore')\n",
        "\n",
        "\n",
        "def Pearsoncorrelation(sepal_width,sepal_length):\n",
        "  xmean,ymean = sepal_width.mean(),sepal_length.mean()\n",
        "  cov = np.sum((x-xmean) * (y-ymean))/len(df)\n",
        "  xvar,yvar = sepal_length.var(),sepal_length.var()\n",
        "  corr = cov/xvar*yvar\n",
        "  return corr\n",
        "\n",
        "  \n",
        "def standardization(df):\n",
        "  df = df.drop('species',axis=1)\n",
        "  scaler = StandardScaler()\n",
        "  df_zscore = pd.DataFrame(scaler.fit_transform(df))\n",
        "  return df_zscore\n",
        "  \n"
      ],
      "execution_count": 10,
      "outputs": []
    },
    {
      "cell_type": "code",
      "source": [
        "df = pd.read_csv('iris.csv') \n",
        "x = df['sepal_width']\n",
        "y = df['sepal_length']\n",
        "\n",
        "corr = Pearsoncorrelation(x,y)       \n",
        "\n",
        "print('\\033[1m' + '\\ncorrelation coefficient between sepal_length and sepal_width is:' + '\\033[0m') #1. correlation coefficient between sepal_length and sepal_width , calling user defined function by passing two variables\n",
        "print(corr)\n",
        "  "
      ],
      "metadata": {
        "colab": {
          "base_uri": "https://localhost:8080/"
        },
        "id": "LO7BsBI7Laka",
        "outputId": "f63b31ae-b626-4060-f011-bfa9bf264d19"
      },
      "execution_count": 2,
      "outputs": [
        {
          "output_type": "stream",
          "name": "stdout",
          "text": [
            "\u001b[1m\n",
            "correlation coefficient between sepal_length and sepal_width is:\u001b[0m\n",
            "-0.0421511111111111\n"
          ]
        }
      ]
    },
    {
      "cell_type": "code",
      "source": [
        "print('\\033[1m' +'\\nvisualization of correlation between two variables:\\n'+'\\033[0m')  #2. plot the graphs to visualize the correlation between two variables\n",
        "grid = sns.JointGrid(x,y)  \n",
        "plt.show(grid.plot_joint(plt.scatter, color=\"g\"))"
      ],
      "metadata": {
        "colab": {
          "base_uri": "https://localhost:8080/",
          "height": 493
        },
        "id": "zylSxpa3Le28",
        "outputId": "dfa5ad63-0d4a-4e21-fc47-73bd2e462ce6"
      },
      "execution_count": 3,
      "outputs": [
        {
          "output_type": "stream",
          "name": "stdout",
          "text": [
            "\u001b[1m\n",
            "visualization of correlation between two variables:\n",
            "\u001b[0m\n"
          ]
        },
        {
          "output_type": "display_data",
          "data": {
            "text/plain": [
              "<Figure size 432x432 with 3 Axes>"
            ],
            "image/png": "[encoded data removed]"
          },
          "metadata": {
            "needs_background": "light"
          }
        }
      ]
    },
    {
      "cell_type": "code",
      "source": [
        "print('\\033[1m' +'\\nvisualization of correlation matrix:\\n'+'\\033[0m')      \n",
        "plt.show(sns.heatmap(df.corr(method='pearson'), annot = True))\n"
      ],
      "metadata": {
        "colab": {
          "base_uri": "https://localhost:8080/",
          "height": 322
        },
        "id": "RLgqjgnnLigT",
        "outputId": "6ef8c732-7897-42a6-864f-bf03f635c3df"
      },
      "execution_count": 7,
      "outputs": [
        {
          "output_type": "stream",
          "name": "stdout",
          "text": [
            "\u001b[1m\n",
            "visualization of correlation matrix:\n",
            "\u001b[0m\n"
          ]
        },
        {
          "output_type": "display_data",
          "data": {
            "text/plain": [
              "<Figure size 432x288 with 2 Axes>"
            ],
            "image/png": "[encoded data removed]"
          },
          "metadata": {
            "needs_background": "light"
          }
        }
      ]
    },
    {
      "cell_type": "code",
      "source": [
        "df_zscore = standardization(df)\n",
        "cov_matrix = df_zscore.cov()\n",
        "print('\\033[1m' + '\\ncov_matrix' + '\\033[0m')       \n",
        "print(cov_matrix)"
      ],
      "metadata": {
        "colab": {
          "base_uri": "https://localhost:8080/"
        },
        "id": "uDKFkWB8Lq4N",
        "outputId": "a8a2bfdc-686f-4a69-91b7-402a339634b4"
      },
      "execution_count": 8,
      "outputs": [
        {
          "output_type": "stream",
          "name": "stdout",
          "text": [
            "\u001b[1m\n",
            "cov_matrix\u001b[0m\n",
            "          0         1         2         3\n",
            "0  1.006711 -0.118359  0.877604  0.823431\n",
            "1 -0.118359  1.006711 -0.431316 -0.368583\n",
            "2  0.877604 -0.431316  1.006711  0.969328\n",
            "3  0.823431 -0.368583  0.969328  1.006711\n"
          ]
        }
      ]
    },
    {
      "cell_type": "code",
      "source": [
        "eigenvalues, eigenvectors = eig(cov_matrix)       \n",
        "\n",
        "eigen = [(np.abs(eigenvalues[i]), eigenvectors[:,i]) for i in range(len(eigenvalues))]\n",
        "\n",
        "eigen = sorted(eigen, key=lambda k: k[0], reverse=True)  \n",
        "\n",
        "print('\\033[1m' +'\\neigenvalues in decreasing order:\\n'+'\\033[0m')\n",
        "for i in eigen:\n",
        "  print(i[0])\n",
        " \n",
        "print('\\033[1m' +'\\neigenvectors is:\\n '+'\\033[0m')\n",
        "for i in eigen:\n",
        "  print(i[1])"
      ],
      "metadata": {
        "colab": {
          "base_uri": "https://localhost:8080/"
        },
        "id": "D8XUvpt5Lols",
        "outputId": "0c0b3fc9-310d-4756-a609-732f0fd7cabe"
      },
      "execution_count": 11,
      "outputs": [
        {
          "output_type": "stream",
          "name": "stdout",
          "text": [
            "\u001b[1m\n",
            "eigenvalues in decreasing order:\n",
            "\u001b[0m\n",
            "2.9380850501999953\n",
            "0.9201649041624852\n",
            "0.1477418210449476\n",
            "0.020853862176463147\n",
            "\u001b[1m\n",
            "eigenvectors is:\n",
            " \u001b[0m\n",
            "[ 0.52106591 -0.26934744  0.5804131   0.56485654]\n",
            "[-0.37741762 -0.92329566 -0.02449161 -0.06694199]\n",
            "[-0.71956635  0.24438178  0.14212637  0.63427274]\n",
            "[ 0.26128628 -0.12350962 -0.80144925  0.52359713]\n"
          ]
        }
      ]
    }
  ]
}