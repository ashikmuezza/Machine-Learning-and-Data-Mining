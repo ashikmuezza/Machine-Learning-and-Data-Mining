{
  "nbformat": 4,
  "nbformat_minor": 0,
  "metadata": {
    "colab": {
      "provenance": [],
      "collapsed_sections": []
    },
    "kernelspec": {
      "name": "python3",
      "display_name": "Python 3"
    },
    "language_info": {
      "name": "python"
    }
  },
  "cells": [
    {
      "cell_type": "code",
      "metadata": {
        "id": "C9V4nVyvUEbj"
      },
      "source": [
        "import pandas as pd\n",
        "from sklearn.cluster import DBSCAN\n",
        "from sklearn.preprocessing import StandardScaler\n",
        "import numpy as np\n",
        "import matplotlib.pyplot as plt\n",
        "from sklearn.preprocessing import normalize\n",
        "from sklearn import metrics\n",
        "\n",
        "class Dbscan:\n",
        "\n",
        "  def __init__(self):\n",
        "    self.df = pd.read_csv('Country-data.csv')\n",
        "    self.df = self.df.loc[:,('exports','imports')]\n",
        "\n",
        "  def standardization(self):\n",
        "    self.scalar = StandardScaler()\n",
        "    self.scaled = self.scalar.fit_transform(self.df)\n",
        "  \n",
        "  def dbscan(self):\n",
        "    self.db = DBSCAN(eps=0.25, min_samples=5).fit(self.scaled)\n",
        "    core_samples_mask = np.zeros_like(self.db.labels_, dtype=bool)\n",
        "    core_samples_mask[self.db.core_sample_indices_] = True\n",
        "    labels = self.db.labels_\n",
        "    no_clusters = len(np.unique(labels) )\n",
        "    no_noise = np.sum(np.array(labels) == -1, axis=0)\n",
        "    print('Estimated no. of clusters: %d' % no_clusters)\n",
        "    print('Estimated no. of noise points: %d' % no_noise) \n",
        "\n",
        "  def showplot(self):\n",
        "\n",
        "    colors = [\"cyan\", \"red\", \"yellow\", \"green\", \"blue\", \"purple\", \"pink\"]\n",
        "    df_values = self.df.values.tolist()\n",
        "    plt.figure(figsize=(15, 10))\n",
        "    for p, c in zip(df_values, self.db.labels_):\n",
        "        if c == -1:\n",
        "            color = \"gray\"\n",
        "        else:\n",
        "            color = colors[c]\n",
        "        plt.scatter(p[0], p[1], color=color)\n",
        "    plt.ylabel(\"imports\")\n",
        "    plt.xlabel(\"exports\")\n",
        "    plt.show()\n"
      ],
      "execution_count": 18,
      "outputs": []
    },
    {
      "cell_type": "code",
      "source": [
        "obj = Dbscan()\n",
        "obj.standardization()\n",
        "obj.dbscan()\n"
      ],
      "metadata": {
        "colab": {
          "base_uri": "https://localhost:8080/"
        },
        "id": "VrANs6W1aUkh",
        "outputId": "e74f4163-c5ac-4779-ebc3-084f9ee17d7d"
      },
      "execution_count": 16,
      "outputs": [
        {
          "output_type": "stream",
          "name": "stdout",
          "text": [
            "Estimated no. of clusters: 4\n",
            "Estimated no. of noise points: 36\n"
          ]
        }
      ]
    },
    {
      "cell_type": "code",
      "source": [
        "obj.showplot()"
      ],
      "metadata": {
        "colab": {
          "base_uri": "https://localhost:8080/",
          "height": 606
        },
        "id": "6s1wDKfjxHdm",
        "outputId": "24f46fd7-b649-4d4f-83d7-9c77376c5ffc"
      },
      "execution_count": 17,
      "outputs": [
        {
          "output_type": "display_data",
          "data": {
            "text/plain": [
              "<Figure size 1080x720 with 1 Axes>"
            ],
            "image/png": "[encoded data removed]"
          },
          "metadata": {
            "needs_background": "light"
          }
        }
      ]
    }
  ]
}