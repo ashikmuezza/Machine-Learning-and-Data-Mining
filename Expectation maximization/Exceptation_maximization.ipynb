{
  "cells": [
    {
      "cell_type": "code",
      "source": [
        "import math\n",
        "x , mean , sd = 163025,146148.34,18628.83\n",
        "prob_density = 1.0 / (sd * math.sqrt(2*math.pi) * math.exp(0.5*(-(x - mean) / sd) ** 2) )\n",
        "print(prob_density)\n",
        "\n",
        "prob = norm.pdf(x, loc=mean, scale=sd)\n",
        "print(prob)"
      ],
      "metadata": {
        "colab": {
          "base_uri": "https://localhost:8080/"
        },
        "id": "Kj2usUPiOClp",
        "outputId": "2d4b6232-5501-45b6-c300-4d154819b57a"
      },
      "id": "Kj2usUPiOClp",
      "execution_count": null,
      "outputs": [
        {
          "output_type": "stream",
          "name": "stdout",
          "text": [
            "1.4207072653916403e-05\n",
            "1.4207072653916401e-05\n"
          ]
        }
      ]
    },
    {
      "cell_type": "code",
      "source": [
        "import numpy as np\n",
        "from scipy.stats import norm\n",
        "\n",
        "income =[124,115,121,139]\n",
        "\n",
        "mu1=123.72\n",
        "mu2 = 157.72\n",
        "sigma1= 15.98\n",
        "sigma2= 14.62\n"
      ],
      "metadata": {
        "id": "ctTAMUETq-H3"
      },
      "id": "ctTAMUETq-H3",
      "execution_count": null,
      "outputs": []
    },
    {
      "cell_type": "code",
      "source": [
        "pdf = []\n",
        "\n",
        "for i in income:\n",
        "  temp = []   \n",
        "  temp.append(i)\n",
        "  p1 = norm.pdf(i, loc=mu1, scale=sigma1)\n",
        "  temp.append(p1)\n",
        "  p2 = norm.pdf(i, loc=mu2, scale=sigma2)\n",
        "  temp.append(p2)\n",
        "\n",
        "  \n",
        "  pdf.append(temp)\n",
        " \n",
        "for i in pdf:\n",
        "  print(i) "
      ],
      "metadata": {
        "colab": {
          "base_uri": "https://localhost:8080/"
        },
        "id": "E9qSs5Q_rVF7",
        "outputId": "7cf326c8-c236-4506-b270-48fc525504cb"
      },
      "id": "E9qSs5Q_rVF7",
      "execution_count": null,
      "outputs": [
        {
          "output_type": "stream",
          "name": "stdout",
          "text": [
            "[124, 0.024961266837177545, 0.001909072763816165]\n",
            "[115, 0.021511643073885704, 0.0003818651819124343]\n",
            "[121, 0.024606056518912976, 0.001164496634089095]\n",
            "[139, 0.01580496502981648, 0.012021129190392811]\n"
          ]
        }
      ]
    },
    {
      "cell_type": "code",
      "source": [
        "x1,x2,x3,w1,w2,w3 = 0,0,0,0,0,0\n",
        "\n",
        "for i in z:\n",
        "  x1 += i[0] * i[1] \n",
        "  w1 += i[1] \n",
        "  x2 += i[0] * i[2]\n",
        "  w2 += i[2] \n",
        "\n",
        "mean1 = x1/w1\n",
        "mean2 = x2/w2\n",
        "\n",
        "\n",
        "print('mean1 :',mean1)  \n",
        "print('mean2 :',mean2)\n"
      ],
      "metadata": {
        "colab": {
          "base_uri": "https://localhost:8080/"
        },
        "id": "w80aDbbHxP3L",
        "outputId": "084e4d34-4ad2-4c2b-f8ab-09b4c938ddc6"
      },
      "id": "w80aDbbHxP3L",
      "execution_count": null,
      "outputs": [
        {
          "output_type": "stream",
          "name": "stdout",
          "text": [
            "mean1 : 123.07183810815012\n",
            "mean2 : 134.9382258784018\n"
          ]
        }
      ]
    },
    {
      "cell_type": "code",
      "source": [
        "z = []\n",
        "for i in pdf:\n",
        "  temp = []\n",
        "  temp.append(i[0])\n",
        "  z1 = i [1] / (i[1] + i[2] )\n",
        "  temp.append(z1)\n",
        "  z2 = i [2] / (i[1] + i[2] )\n",
        "  temp.append(z2)\n",
        "\n",
        "  z.append(temp)\n",
        " \n",
        "for i in z:\n",
        "  print(i)"
      ],
      "metadata": {
        "colab": {
          "base_uri": "https://localhost:8080/"
        },
        "id": "FziNINK5rpBb",
        "outputId": "98885760-713b-43f9-cb3d-21134a15eed1"
      },
      "id": "FziNINK5rpBb",
      "execution_count": null,
      "outputs": [
        {
          "output_type": "stream",
          "name": "stdout",
          "text": [
            "[124, 0.9289524139938461, 0.07104758600615395]\n",
            "[115, 0.9825580634473553, 0.01744193655264471]\n",
            "[121, 0.9548128972174026, 0.04518710278259743]\n",
            "[139, 0.5679907824914138, 0.4320092175085863]\n"
          ]
        }
      ]
    },
    {
      "cell_type": "code",
      "source": [
        "import numpy as np\n",
        "from scipy.stats import norm\n",
        "\n",
        "income =[157434,261952,144657,118777,147511,163025,120131,162745,155569]\n",
        "\n",
        "mu1=188014.34\n",
        "mu2=143104.34\n",
        "mu3=146148.34\n",
        "sigma1=52541.39\n",
        "sigma2=18330.95\n",
        "sigma3=18628.83"
      ],
      "metadata": {
        "id": "iLLL3JQyhYcX"
      },
      "id": "iLLL3JQyhYcX",
      "execution_count": null,
      "outputs": []
    },
    {
      "cell_type": "code",
      "source": [
        "pdf = []\n",
        "\n",
        "for i in income:\n",
        "  temp = []   \n",
        "  temp.append(i)\n",
        "  p1 = norm.pdf(i, loc=mu1, scale=sigma1)\n",
        "  temp.append(p1)\n",
        "  p2 = norm.pdf(i, loc=mu2, scale=sigma2)\n",
        "  temp.append(p2)\n",
        "  p3 = norm.pdf(i, loc=mu3, scale=sigma3)\n",
        "  temp.append(p3)\n",
        "  \n",
        "  pdf.append(temp)\n",
        " \n",
        "for i in pdf:\n",
        "  print(i) "
      ],
      "metadata": {
        "id": "f2lbWPdcha2U",
        "colab": {
          "base_uri": "https://localhost:8080/"
        },
        "outputId": "a0822d42-03a5-4cde-8c79-25dc02a5d399"
      },
      "id": "f2lbWPdcha2U",
      "execution_count": null,
      "outputs": [
        {
          "output_type": "stream",
          "name": "stdout",
          "text": [
            "[157434, 6.409874218414395e-06, 1.6033547002125978e-05, 1.782495262025063e-05]\n",
            "[261952, 2.8209442276105413e-06, 1.621567672961003e-14, 8.698690097025897e-14]\n",
            "[144657, 5.401815391655925e-06, 2.168538824144659e-05, 2.1346801692390267e-05]\n",
            "[118777, 3.1866168874134114e-06, 9.021443086984928e-06, 7.276755673840876e-06]\n",
            "[147511, 5.641128284928438e-06, 2.114346964691152e-05, 2.1358099952958255e-05]\n",
            "[163025, 6.7809139755293746e-06, 1.205817331422209e-05, 1.4207072653916401e-05]\n",
            "[120131, 3.2955953917056193e-06, 9.9234715831328e-06, 8.075517007959464e-06]\n",
            "[162745, 6.763652779492299e-06, 1.2258571819924825e-05, 1.4400223172210647e-05]\n",
            "[155569, 6.274854237972599e-06, 1.7271196580205874e-05, 1.884482750152884e-05]\n"
          ]
        }
      ]
    },
    {
      "cell_type": "code",
      "source": [
        "z = []\n",
        "for i in pdf:\n",
        "  temp = []\n",
        "  temp.append(i[0])\n",
        "  z1 = i [1] / (i[1] + i[2] + i[3])\n",
        "  temp.append(z1)\n",
        "  z2 = i [2] / (i[1] + i[2] + i[3])\n",
        "  temp.append(z2)\n",
        "  z3 = i [3] / (i[1] + i[2] + i[3])\n",
        "  temp.append(z3)\n",
        "\n",
        "  z.append(temp)\n",
        " \n",
        "for i in z:\n",
        "  print(i)"
      ],
      "metadata": {
        "colab": {
          "base_uri": "https://localhost:8080/"
        },
        "id": "QTyTdy4ClOqM",
        "outputId": "2c6630a9-9730-4a99-9389-10d4aff69946"
      },
      "id": "QTyTdy4ClOqM",
      "execution_count": null,
      "outputs": [
        {
          "output_type": "stream",
          "name": "stdout",
          "text": [
            "[157434, 0.1591788693468751, 0.3981672333111285, 0.4426538973419963]\n",
            "[261952, 0.9999999634155922, 5.748315042054009e-09, 3.083609272969437e-08]\n",
            "[144657, 0.1115293966574499, 0.4477306408114196, 0.4407399625311306]\n",
            "[118777, 0.16354359953625616, 0.4629986369822374, 0.3734577634815064]\n",
            "[147511, 0.11717515911607666, 0.43918331493399526, 0.4436415259499281]\n",
            "[163025, 0.20519521745002928, 0.3648887899464584, 0.42991599260351243]\n",
            "[120131, 0.154762140193387, 0.4660091782562714, 0.3792286815503417]\n",
            "[162745, 0.20236856455600316, 0.36677660187208355, 0.4308548335719133]\n",
            "[155569, 0.14802369015919756, 0.4074271934152537, 0.44454911642554884]\n"
          ]
        }
      ]
    },
    {
      "cell_type": "code",
      "source": [
        "x1,x2,x3,w1,w2,w3 = 0,0,0,0,0,0\n",
        "\n",
        "for i in z:\n",
        "  x1 += i[0] * i[1] \n",
        "  w1 += i[1] \n",
        "  x2 += i[0] * i[2]\n",
        "  w2 += i[2] \n",
        "  x3 += i[0] * i[3]\n",
        "  w3 += i[3] \n",
        "\n",
        "mean1 = x1/w1\n",
        "mean2 = x2/w2\n",
        "mean3 = x3/w3\n",
        "\n",
        "print('mean1 :',mean1)  \n",
        "print('mean2 :',mean2)\n",
        "print('mean3 :',mean3)\n"
      ],
      "metadata": {
        "colab": {
          "base_uri": "https://localhost:8080/"
        },
        "id": "4pZiA_zfdbHQ",
        "outputId": "76d95cca-c156-4caa-a0df-7377660ba214"
      },
      "id": "4pZiA_zfdbHQ",
      "execution_count": null,
      "outputs": [
        {
          "output_type": "stream",
          "name": "stdout",
          "text": [
            "mean1 : 198013.17153968778\n",
            "mean2 : 144869.17006797993\n",
            "mean3 : 147167.10635826312\n"
          ]
        }
      ]
    },
    {
      "cell_type": "code",
      "execution_count": null,
      "id": "971ac977",
      "metadata": {
        "id": "971ac977",
        "colab": {
          "base_uri": "https://localhost:8080/"
        },
        "outputId": "edfe24a5-8ab3-48db-e895-89e648c36cd7"
      },
      "outputs": [
        {
          "output_type": "stream",
          "name": "stdout",
          "text": [
            "sigma1 : 58353.872293220746\n",
            "sigma2 : 144868.7474604012\n",
            "sigma3 : 147166.6814345176\n"
          ]
        }
      ],
      "source": [
        "x1,x2,x3,w1,w2,w3 = 0,0,0,0,0,0\n",
        "\n",
        "for i in z:\n",
        "    x1 += i[1] * np.square(np.subtract(i[0],mean1))\n",
        "    w1 += i[1] \n",
        "    x2+= i[2] * np.square(np.subtract(i[2],mean2))\n",
        "    w2 += i[2] \n",
        "    x3+= i[3]* np.square(np.subtract(i[3],mean3))\n",
        "    w3 += i[3] \n",
        "\n",
        "\n",
        "sigma1=np.sqrt(x1/w1)\n",
        "sigma2=np.sqrt(x2/w2)\n",
        "sigma3=np.sqrt(x3/w3)\n",
        "\n",
        "print('sigma1 :',sigma1)  \n",
        "print('sigma2 :',sigma2)\n",
        "print('sigma3 :',sigma3)"
      ]
    }
  ],
  "metadata": {
    "kernelspec": {
      "display_name": "Python 3",
      "language": "python",
      "name": "python3"
    },
    "language_info": {
      "codemirror_mode": {
        "name": "ipython",
        "version": 3
      },
      "file_extension": ".py",
      "mimetype": "text/x-python",
      "name": "python",
      "nbconvert_exporter": "python",
      "pygments_lexer": "ipython3",
      "version": "3.8.10"
    },
    "colab": {
      "provenance": [],
      "collapsed_sections": []
    }
  },
  "nbformat": 4,
  "nbformat_minor": 5
}